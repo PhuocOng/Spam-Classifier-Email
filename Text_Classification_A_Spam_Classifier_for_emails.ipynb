{
  "nbformat": 4,
  "nbformat_minor": 0,
  "metadata": {
    "colab": {
      "provenance": [],
      "toc_visible": true,
      "authorship_tag": "ABX9TyOVslydeZJN415Bp0Eknhby",
      "include_colab_link": true
    },
    "kernelspec": {
      "name": "python3",
      "display_name": "Python 3"
    },
    "language_info": {
      "name": "python"
    }
  },
  "cells": [
    {
      "cell_type": "markdown",
      "metadata": {
        "id": "view-in-github",
        "colab_type": "text"
      },
      "source": [
        "<a href=\"https://colab.research.google.com/github/PhuocOng/Spam-Classifier-Email/blob/main/Text_Classification_A_Spam_Classifier_for_emails.ipynb\" target=\"_parent\"><img src=\"https://colab.research.google.com/assets/colab-badge.svg\" alt=\"Open In Colab\"/></a>"
      ]
    },
    {
      "cell_type": "code",
      "source": [
        "!pip install datasets"
      ],
      "metadata": {
        "colab": {
          "base_uri": "https://localhost:8080/"
        },
        "id": "ezW_2hNPLyTx",
        "outputId": "33979320-2eb3-418f-c22a-f17cb87b7a5c"
      },
      "execution_count": 8,
      "outputs": [
        {
          "output_type": "stream",
          "name": "stdout",
          "text": [
            "Requirement already satisfied: datasets in /usr/local/lib/python3.11/dist-packages (3.3.2)\n",
            "Requirement already satisfied: filelock in /usr/local/lib/python3.11/dist-packages (from datasets) (3.17.0)\n",
            "Requirement already satisfied: numpy>=1.17 in /usr/local/lib/python3.11/dist-packages (from datasets) (1.26.4)\n",
            "Requirement already satisfied: pyarrow>=15.0.0 in /usr/local/lib/python3.11/dist-packages (from datasets) (18.1.0)\n",
            "Requirement already satisfied: dill<0.3.9,>=0.3.0 in /usr/local/lib/python3.11/dist-packages (from datasets) (0.3.8)\n",
            "Requirement already satisfied: pandas in /usr/local/lib/python3.11/dist-packages (from datasets) (2.2.2)\n",
            "Requirement already satisfied: requests>=2.32.2 in /usr/local/lib/python3.11/dist-packages (from datasets) (2.32.3)\n",
            "Requirement already satisfied: tqdm>=4.66.3 in /usr/local/lib/python3.11/dist-packages (from datasets) (4.67.1)\n",
            "Requirement already satisfied: xxhash in /usr/local/lib/python3.11/dist-packages (from datasets) (3.5.0)\n",
            "Requirement already satisfied: multiprocess<0.70.17 in /usr/local/lib/python3.11/dist-packages (from datasets) (0.70.16)\n",
            "Requirement already satisfied: fsspec<=2024.12.0,>=2023.1.0 in /usr/local/lib/python3.11/dist-packages (from fsspec[http]<=2024.12.0,>=2023.1.0->datasets) (2024.10.0)\n",
            "Requirement already satisfied: aiohttp in /usr/local/lib/python3.11/dist-packages (from datasets) (3.11.13)\n",
            "Requirement already satisfied: huggingface-hub>=0.24.0 in /usr/local/lib/python3.11/dist-packages (from datasets) (0.28.1)\n",
            "Requirement already satisfied: packaging in /usr/local/lib/python3.11/dist-packages (from datasets) (24.2)\n",
            "Requirement already satisfied: pyyaml>=5.1 in /usr/local/lib/python3.11/dist-packages (from datasets) (6.0.2)\n",
            "Requirement already satisfied: aiohappyeyeballs>=2.3.0 in /usr/local/lib/python3.11/dist-packages (from aiohttp->datasets) (2.5.0)\n",
            "Requirement already satisfied: aiosignal>=1.1.2 in /usr/local/lib/python3.11/dist-packages (from aiohttp->datasets) (1.3.2)\n",
            "Requirement already satisfied: attrs>=17.3.0 in /usr/local/lib/python3.11/dist-packages (from aiohttp->datasets) (25.1.0)\n",
            "Requirement already satisfied: frozenlist>=1.1.1 in /usr/local/lib/python3.11/dist-packages (from aiohttp->datasets) (1.5.0)\n",
            "Requirement already satisfied: multidict<7.0,>=4.5 in /usr/local/lib/python3.11/dist-packages (from aiohttp->datasets) (6.1.0)\n",
            "Requirement already satisfied: propcache>=0.2.0 in /usr/local/lib/python3.11/dist-packages (from aiohttp->datasets) (0.3.0)\n",
            "Requirement already satisfied: yarl<2.0,>=1.17.0 in /usr/local/lib/python3.11/dist-packages (from aiohttp->datasets) (1.18.3)\n",
            "Requirement already satisfied: typing-extensions>=3.7.4.3 in /usr/local/lib/python3.11/dist-packages (from huggingface-hub>=0.24.0->datasets) (4.12.2)\n",
            "Requirement already satisfied: charset-normalizer<4,>=2 in /usr/local/lib/python3.11/dist-packages (from requests>=2.32.2->datasets) (3.4.1)\n",
            "Requirement already satisfied: idna<4,>=2.5 in /usr/local/lib/python3.11/dist-packages (from requests>=2.32.2->datasets) (3.10)\n",
            "Requirement already satisfied: urllib3<3,>=1.21.1 in /usr/local/lib/python3.11/dist-packages (from requests>=2.32.2->datasets) (2.3.0)\n",
            "Requirement already satisfied: certifi>=2017.4.17 in /usr/local/lib/python3.11/dist-packages (from requests>=2.32.2->datasets) (2025.1.31)\n",
            "Requirement already satisfied: python-dateutil>=2.8.2 in /usr/local/lib/python3.11/dist-packages (from pandas->datasets) (2.8.2)\n",
            "Requirement already satisfied: pytz>=2020.1 in /usr/local/lib/python3.11/dist-packages (from pandas->datasets) (2025.1)\n",
            "Requirement already satisfied: tzdata>=2022.7 in /usr/local/lib/python3.11/dist-packages (from pandas->datasets) (2025.1)\n",
            "Requirement already satisfied: six>=1.5 in /usr/local/lib/python3.11/dist-packages (from python-dateutil>=2.8.2->pandas->datasets) (1.17.0)\n"
          ]
        }
      ]
    },
    {
      "cell_type": "code",
      "source": [
        "!pip install transformers"
      ],
      "metadata": {
        "colab": {
          "base_uri": "https://localhost:8080/"
        },
        "id": "d2b1O3ZyMvcI",
        "outputId": "290a985d-c38a-4551-aaca-0340a3d4fb1c"
      },
      "execution_count": 10,
      "outputs": [
        {
          "output_type": "stream",
          "name": "stdout",
          "text": [
            "Requirement already satisfied: transformers in /usr/local/lib/python3.11/dist-packages (4.48.3)\n",
            "Requirement already satisfied: filelock in /usr/local/lib/python3.11/dist-packages (from transformers) (3.17.0)\n",
            "Requirement already satisfied: huggingface-hub<1.0,>=0.24.0 in /usr/local/lib/python3.11/dist-packages (from transformers) (0.28.1)\n",
            "Requirement already satisfied: numpy>=1.17 in /usr/local/lib/python3.11/dist-packages (from transformers) (1.26.4)\n",
            "Requirement already satisfied: packaging>=20.0 in /usr/local/lib/python3.11/dist-packages (from transformers) (24.2)\n",
            "Requirement already satisfied: pyyaml>=5.1 in /usr/local/lib/python3.11/dist-packages (from transformers) (6.0.2)\n",
            "Requirement already satisfied: regex!=2019.12.17 in /usr/local/lib/python3.11/dist-packages (from transformers) (2024.11.6)\n",
            "Requirement already satisfied: requests in /usr/local/lib/python3.11/dist-packages (from transformers) (2.32.3)\n",
            "Requirement already satisfied: tokenizers<0.22,>=0.21 in /usr/local/lib/python3.11/dist-packages (from transformers) (0.21.0)\n",
            "Requirement already satisfied: safetensors>=0.4.1 in /usr/local/lib/python3.11/dist-packages (from transformers) (0.5.3)\n",
            "Requirement already satisfied: tqdm>=4.27 in /usr/local/lib/python3.11/dist-packages (from transformers) (4.67.1)\n",
            "Requirement already satisfied: fsspec>=2023.5.0 in /usr/local/lib/python3.11/dist-packages (from huggingface-hub<1.0,>=0.24.0->transformers) (2024.10.0)\n",
            "Requirement already satisfied: typing-extensions>=3.7.4.3 in /usr/local/lib/python3.11/dist-packages (from huggingface-hub<1.0,>=0.24.0->transformers) (4.12.2)\n",
            "Requirement already satisfied: charset-normalizer<4,>=2 in /usr/local/lib/python3.11/dist-packages (from requests->transformers) (3.4.1)\n",
            "Requirement already satisfied: idna<4,>=2.5 in /usr/local/lib/python3.11/dist-packages (from requests->transformers) (3.10)\n",
            "Requirement already satisfied: urllib3<3,>=1.21.1 in /usr/local/lib/python3.11/dist-packages (from requests->transformers) (2.3.0)\n",
            "Requirement already satisfied: certifi>=2017.4.17 in /usr/local/lib/python3.11/dist-packages (from requests->transformers) (2025.1.31)\n"
          ]
        }
      ]
    },
    {
      "cell_type": "code",
      "execution_count": 11,
      "metadata": {
        "id": "sng1swM3Hbgv"
      },
      "outputs": [],
      "source": [
        "from datasets import load_dataset\n",
        "dataset = load_dataset(\"sms_spam\")"
      ]
    },
    {
      "cell_type": "code",
      "source": [
        "from transformers import AutoTokenizer, AutoModelForSequenceClassification\n",
        "\n",
        "model_name = \"distilbert-base-uncased\"\n",
        "tokenizer = AutoTokenizer.from_pretrained(model_name)\n",
        "model = AutoModelForSequenceClassification.from_pretrained(model_name, num_labels = 2)"
      ],
      "metadata": {
        "colab": {
          "base_uri": "https://localhost:8080/"
        },
        "id": "HSlAzyJSL-OX",
        "outputId": "79c9d2f1-7b4f-4702-bdf6-45d263ccd2cc"
      },
      "execution_count": 80,
      "outputs": [
        {
          "output_type": "stream",
          "name": "stderr",
          "text": [
            "Some weights of DistilBertForSequenceClassification were not initialized from the model checkpoint at distilbert-base-uncased and are newly initialized: ['classifier.bias', 'classifier.weight', 'pre_classifier.bias', 'pre_classifier.weight']\n",
            "You should probably TRAIN this model on a down-stream task to be able to use it for predictions and inference.\n"
          ]
        }
      ]
    },
    {
      "cell_type": "code",
      "source": [
        "import torch"
      ],
      "metadata": {
        "id": "l1LYO55OMwkg"
      },
      "execution_count": 16,
      "outputs": []
    },
    {
      "cell_type": "code",
      "source": [
        "def preprocess(text):\n",
        "  inputs = tokenizer(text, padding = True, truncation = True, return_tensors = \"pt\")\n",
        "  print(f\"After processing the {text}, the inputs we have is:\")\n",
        "  print(inputs)\n",
        "  return inputs"
      ],
      "metadata": {
        "id": "0PpezHPQZfYS"
      },
      "execution_count": 32,
      "outputs": []
    },
    {
      "cell_type": "code",
      "source": [
        "def predict_spam(text):\n",
        "  inputs = preprocess(text)\n",
        "  with torch.no_grad():\n",
        "    outputs = model(**inputs)\n",
        "\n",
        "  logits = outputs.logits\n",
        "  predicted_class = torch.argmax(logits, dim = 1).item()\n",
        "  return predicted_class\n",
        "\n",
        "def predict_spam_confidence(text):\n",
        "  inputs = preprocess(text)\n",
        "  with torch.no_grad():\n",
        "    outputs = model(**inputs)\n",
        "  logits = outputs.logits\n",
        "  probabilities = torch.softmax(logits, dim = 1)\n",
        "  predicted_class = torch.argmax(logits, dim = 1).item()\n",
        "  confidence = probabilities[0, predicted_class].item()\n",
        "  return confidence"
      ],
      "metadata": {
        "id": "wh1WpwHBZoVN"
      },
      "execution_count": 63,
      "outputs": []
    },
    {
      "cell_type": "code",
      "source": [
        "def classify_message(text):\n",
        "    class_map = {0: \"Not Spam\", 1: \"Spam\"}\n",
        "    inputs = preprocess(text)\n",
        "    with torch.no_grad():\n",
        "        outputs = model(**inputs)\n",
        "    logits = outputs.logits\n",
        "    print(f\"logis: {logits}\")\n",
        "    probabilities = torch.softmax(logits, dim=1)  # Convert logits to probabilities\n",
        "    predicted_class = torch.argmax(logits, dim=1).item()\n",
        "    print(f\"probabilities: {probabilities}\")\n",
        "    print(f\"predicted_class: {predicted_class}\")\n",
        "    print(f\"probabilities[0][0]\", probabilities[0][0])\n",
        "    print(f\"probabilities[0][1]\", probabilities[0][1])\n",
        "    print(f\"probabilities[0, 0]\", probabilities[0, 0])\n",
        "    print(f\"probabilities[0, 1]\", probabilities[0, 1].item())\n",
        "    confidence = probabilities[0][predicted_class].item()  # Get confidence score\n",
        "\n",
        "    return class_map[predicted_class], confidence"
      ],
      "metadata": {
        "id": "7SdB-9pDZ0C6"
      },
      "execution_count": 96,
      "outputs": []
    },
    {
      "cell_type": "markdown",
      "source": [],
      "metadata": {
        "id": "8Bzr10Unl0Su"
      }
    },
    {
      "cell_type": "code",
      "source": [
        "example_messages = [\n",
        "    \"Congratulations! You've won a $1000 Walmart gift card. Click here to claim now.\",\n",
        "    \"Hey, are we still meeting for coffee later?\",\n",
        "    \"URGENT! Your account has been compromised. Reset your password immediately.\",\n",
        "    \"Can you send me the project report by tomorrow?\",\n",
        "    \"eiufnqbuivbeuiv\",\n",
        "    \"Hi Peter! We have a job give you $500000 in 1 hour!!\",\n",
        "    \"Hey, do you want to win the fantasy football league this year? Let's strategize!\",\n",
        "    \"Hey Mom, my college is offering free lunch this Friday. Want to join?\"\n",
        "    \"You have WON a brand new car!!! Click this link NOW to claim your prize.\"\n",
        "    ]\n",
        "\n",
        "for msg in example_messages:\n",
        "    label, confidence = classify_message(msg)\n",
        "    print(f\"📩 Message: {msg}\")\n",
        "    print(f\"🔍 Prediction: {label} (Confidence: {confidence:.4f})\\n\")"
      ],
      "metadata": {
        "colab": {
          "base_uri": "https://localhost:8080/"
        },
        "id": "vtQhv_ZJZ9NC",
        "outputId": "30499674-c372-440e-fdd6-7757d5fa5beb"
      },
      "execution_count": 98,
      "outputs": [
        {
          "output_type": "stream",
          "name": "stdout",
          "text": [
            "After processing the Congratulations! You've won a $1000 Walmart gift card. Click here to claim now., the inputs we have is:\n",
            "{'input_ids': tensor([[  101, 23156,   999,  2017,  1005,  2310,  2180,  1037,  1002,  6694,\n",
            "         24547, 22345,  5592,  4003,  1012, 11562,  2182,  2000,  4366,  2085,\n",
            "          1012,   102]]), 'attention_mask': tensor([[1, 1, 1, 1, 1, 1, 1, 1, 1, 1, 1, 1, 1, 1, 1, 1, 1, 1, 1, 1, 1, 1]])}\n",
            "logis: tensor([[ 0.0069, -0.0142]])\n",
            "probabilities: tensor([[0.5053, 0.4947]])\n",
            "predicted_class: 0\n",
            "probabilities[0][0] tensor(0.5053)\n",
            "probabilities[0][1] tensor(0.4947)\n",
            "probabilities[0, 0] tensor(0.5053)\n",
            "probabilities[0, 1] 0.49470338225364685\n",
            "📩 Message: Congratulations! You've won a $1000 Walmart gift card. Click here to claim now.\n",
            "🔍 Prediction: Not Spam (Confidence: 0.5053)\n",
            "\n",
            "After processing the Hey, are we still meeting for coffee later?, the inputs we have is:\n",
            "{'input_ids': tensor([[ 101, 4931, 1010, 2024, 2057, 2145, 3116, 2005, 4157, 2101, 1029,  102]]), 'attention_mask': tensor([[1, 1, 1, 1, 1, 1, 1, 1, 1, 1, 1, 1]])}\n",
            "logis: tensor([[ 0.0358, -0.0010]])\n",
            "probabilities: tensor([[0.5092, 0.4908]])\n",
            "predicted_class: 0\n",
            "probabilities[0][0] tensor(0.5092)\n",
            "probabilities[0][1] tensor(0.4908)\n",
            "probabilities[0, 0] tensor(0.5092)\n",
            "probabilities[0, 1] 0.4907892048358917\n",
            "📩 Message: Hey, are we still meeting for coffee later?\n",
            "🔍 Prediction: Not Spam (Confidence: 0.5092)\n",
            "\n",
            "After processing the URGENT! Your account has been compromised. Reset your password immediately., the inputs we have is:\n",
            "{'input_ids': tensor([[  101, 13661,   999,  2115,  4070,  2038,  2042, 20419,  1012, 25141,\n",
            "          2115, 20786,  3202,  1012,   102]]), 'attention_mask': tensor([[1, 1, 1, 1, 1, 1, 1, 1, 1, 1, 1, 1, 1, 1, 1]])}\n",
            "logis: tensor([[-0.0177,  0.0157]])\n",
            "probabilities: tensor([[0.4917, 0.5083]])\n",
            "predicted_class: 1\n",
            "probabilities[0][0] tensor(0.4917)\n",
            "probabilities[0][1] tensor(0.5083)\n",
            "probabilities[0, 0] tensor(0.4917)\n",
            "probabilities[0, 1] 0.5083457231521606\n",
            "📩 Message: URGENT! Your account has been compromised. Reset your password immediately.\n",
            "🔍 Prediction: Spam (Confidence: 0.5083)\n",
            "\n",
            "After processing the Can you send me the project report by tomorrow?, the inputs we have is:\n",
            "{'input_ids': tensor([[ 101, 2064, 2017, 4604, 2033, 1996, 2622, 3189, 2011, 4826, 1029,  102]]), 'attention_mask': tensor([[1, 1, 1, 1, 1, 1, 1, 1, 1, 1, 1, 1]])}\n",
            "logis: tensor([[0.0096, 0.0010]])\n",
            "probabilities: tensor([[0.5022, 0.4978]])\n",
            "predicted_class: 0\n",
            "probabilities[0][0] tensor(0.5022)\n",
            "probabilities[0][1] tensor(0.4978)\n",
            "probabilities[0, 0] tensor(0.5022)\n",
            "probabilities[0, 1] 0.4978434145450592\n",
            "📩 Message: Can you send me the project report by tomorrow?\n",
            "🔍 Prediction: Not Spam (Confidence: 0.5022)\n",
            "\n",
            "After processing the eiufnqbuivbeuiv, the inputs we have is:\n",
            "{'input_ids': tensor([[  101,  1041, 17922,  2546,  2078,  4160,  8569, 12848,  4783, 10179,\n",
            "          2615,   102]]), 'attention_mask': tensor([[1, 1, 1, 1, 1, 1, 1, 1, 1, 1, 1, 1]])}\n",
            "logis: tensor([[ 0.0513, -0.0184]])\n",
            "probabilities: tensor([[0.5174, 0.4826]])\n",
            "predicted_class: 0\n",
            "probabilities[0][0] tensor(0.5174)\n",
            "probabilities[0][1] tensor(0.4826)\n",
            "probabilities[0, 0] tensor(0.5174)\n",
            "probabilities[0, 1] 0.482582688331604\n",
            "📩 Message: eiufnqbuivbeuiv\n",
            "🔍 Prediction: Not Spam (Confidence: 0.5174)\n",
            "\n",
            "After processing the Hi Peter! We have a job give you $500000 in 1 hour!!, the inputs we have is:\n",
            "{'input_ids': tensor([[  101,  7632,  2848,   999,  2057,  2031,  1037,  3105,  2507,  2017,\n",
            "          1002, 13509,  8889,  1999,  1015,  3178,   999,   999,   102]]), 'attention_mask': tensor([[1, 1, 1, 1, 1, 1, 1, 1, 1, 1, 1, 1, 1, 1, 1, 1, 1, 1, 1]])}\n",
            "logis: tensor([[ 0.0321, -0.0106]])\n",
            "probabilities: tensor([[0.5107, 0.4893]])\n",
            "predicted_class: 0\n",
            "probabilities[0][0] tensor(0.5107)\n",
            "probabilities[0][1] tensor(0.4893)\n",
            "probabilities[0, 0] tensor(0.5107)\n",
            "probabilities[0, 1] 0.4893374741077423\n",
            "📩 Message: Hi Peter! We have a job give you $500000 in 1 hour!!\n",
            "🔍 Prediction: Not Spam (Confidence: 0.5107)\n",
            "\n",
            "After processing the Hey, do you want to win the fantasy football league this year? Let's strategize!, the inputs we have is:\n",
            "{'input_ids': tensor([[  101,  4931,  1010,  2079,  2017,  2215,  2000,  2663,  1996,  5913,\n",
            "          2374,  2223,  2023,  2095,  1029,  2292,  1005,  1055,  2358, 11657,\n",
            "          5856,  4371,   999,   102]]), 'attention_mask': tensor([[1, 1, 1, 1, 1, 1, 1, 1, 1, 1, 1, 1, 1, 1, 1, 1, 1, 1, 1, 1, 1, 1, 1, 1]])}\n",
            "logis: tensor([[ 0.0249, -0.0064]])\n",
            "probabilities: tensor([[0.5078, 0.4922]])\n",
            "predicted_class: 0\n",
            "probabilities[0][0] tensor(0.5078)\n",
            "probabilities[0][1] tensor(0.4922)\n",
            "probabilities[0, 0] tensor(0.5078)\n",
            "probabilities[0, 1] 0.49216657876968384\n",
            "📩 Message: Hey, do you want to win the fantasy football league this year? Let's strategize!\n",
            "🔍 Prediction: Not Spam (Confidence: 0.5078)\n",
            "\n",
            "After processing the Hey Mom, my college is offering free lunch this Friday. Want to join?You have WON a brand new car!!! Click this link NOW to claim your prize., the inputs we have is:\n",
            "{'input_ids': tensor([[  101,  4931,  3566,  1010,  2026,  2267,  2003,  5378,  2489,  6265,\n",
            "          2023,  5958,  1012,  2215,  2000,  3693,  1029,  2017,  2031,  2180,\n",
            "          1037,  4435,  2047,  2482,   999,   999,   999, 11562,  2023,  4957,\n",
            "          2085,  2000,  4366,  2115,  3396,  1012,   102]]), 'attention_mask': tensor([[1, 1, 1, 1, 1, 1, 1, 1, 1, 1, 1, 1, 1, 1, 1, 1, 1, 1, 1, 1, 1, 1, 1, 1,\n",
            "         1, 1, 1, 1, 1, 1, 1, 1, 1, 1, 1, 1, 1]])}\n",
            "logis: tensor([[-0.0092,  0.0103]])\n",
            "probabilities: tensor([[0.4951, 0.5049]])\n",
            "predicted_class: 1\n",
            "probabilities[0][0] tensor(0.4951)\n",
            "probabilities[0][1] tensor(0.5049)\n",
            "probabilities[0, 0] tensor(0.4951)\n",
            "probabilities[0, 1] 0.5048684477806091\n",
            "📩 Message: Hey Mom, my college is offering free lunch this Friday. Want to join?You have WON a brand new car!!! Click this link NOW to claim your prize.\n",
            "🔍 Prediction: Spam (Confidence: 0.5049)\n",
            "\n"
          ]
        }
      ]
    },
    {
      "cell_type": "markdown",
      "source": [],
      "metadata": {
        "id": "lJxdftWZaIj4"
      }
    }
  ]
}